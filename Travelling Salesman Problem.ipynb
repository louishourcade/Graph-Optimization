{
 "cells": [
  {
   "cell_type": "markdown",
   "metadata": {},
   "source": [
    "# BE : Dynamically solving the Travelling Salesman Problem"
   ]
  },
  {
   "cell_type": "markdown",
   "metadata": {},
   "source": [
    "\n",
    "### 10/10/2018 - Louis HOURCADE Report"
   ]
  },
  {
   "cell_type": "markdown",
   "metadata": {},
   "source": [
    "###### Question 1 - Data structure"
   ]
  },
  {
   "cell_type": "code",
   "execution_count": 1,
   "metadata": {},
   "outputs": [
    {
     "name": "stdout",
     "output_type": "stream",
     "text": [
      "expected number of vertices : 5\n",
      "\n",
      "reading point 0: (20833.3333, 17100.0)\n",
      "reading point 1: (20900.0, 17066.6667)\n",
      "reading point 2: (21300.0, 13016.6667)\n",
      "reading point 3: (21600.0, 14150.0)\n",
      "reading point 4: (21600.0, 14966.6667)\n",
      "\n",
      "number of vertices: 5\n"
     ]
    }
   ],
   "source": [
    "# reader student\n",
    "\n",
    "\"\"\"A simple reader for data file for TSP problem\"\"\"\n",
    "import sys\n",
    "import time\n",
    "\n",
    "## Before testing the code you have to change the text file data paths\n",
    "file_5 = \"tsp5.txt\"\n",
    "file_10 = \"tsp10.txt\"\n",
    "file_15 = \"tsp15.txt\"\n",
    "file_20 = \"tsp20.txt\"\n",
    "file_25 = \"tsp25.txt\"\n",
    "\n",
    "with open(file_5) as data_file:\n",
    "    nb = 0\n",
    "\n",
    "    # first line is total number of vertices in file\n",
    "    print(\"expected number of vertices : {0}\\n\".format(int(data_file.readline())))\n",
    "    Coord =[]\n",
    "    for line in data_file:\n",
    "        print(\"reading point {0}: {1}\".format(nb,\n",
    "                                              tuple(float(x) for x in line.split())))\n",
    "        Coord.append(tuple(float(x) for x in line.split()))\n",
    "        nb = nb + 1\n",
    "\n",
    "    print(\"\\nnumber of vertices: {0}\".format(nb))\n",
    "    "
   ]
  },
  {
   "cell_type": "code",
   "execution_count": 2,
   "metadata": {},
   "outputs": [
    {
     "name": "stdout",
     "output_type": "stream",
     "text": [
      "[[   0.           74.53561416 4109.91345989 3047.99570684 2266.91173136]\n",
      " [  74.53561416    0.         4069.70514902 2999.49072992 2213.59436212]\n",
      " [4109.91345989 4069.70514902    0.         1172.36699411 1972.94196569]\n",
      " [3047.99570684 2999.49072992 1172.36699411    0.          816.6667    ]\n",
      " [2266.91173136 2213.59436212 1972.94196569  816.6667        0.        ]]\n",
      "[[   0.           74.53561416 4109.91345989 3047.99570684 2266.91173136]\n",
      " [  74.53561416    0.         4069.70514902 2999.49072992 2213.59436212]\n",
      " [4109.91345989 4069.70514902    0.         1172.36699411 1972.94196569]\n",
      " [3047.99570684 2999.49072992 1172.36699411    0.          816.6667    ]\n",
      " [2266.91173136 2213.59436212 1972.94196569  816.6667        0.        ]]\n"
     ]
    }
   ],
   "source": [
    "## setting up of our data structures in order to represent nodes and setofnodes\n",
    "import networkx as nx\n",
    "from scipy.spatial.distance import euclidean\n",
    "import numpy as np\n",
    "import matplotlib.pyplot as plt\n",
    "\n",
    "D = np.zeros((len(Coord),len(Coord)))\n",
    "for i in range(0,len(Coord)):\n",
    "    for j in range(i+1,len(Coord)):\n",
    "        D[i,j] = euclidean(Coord[i],Coord[j])\n",
    "        D[j,i] = D[i,j]\n",
    "\n",
    "# D is our matrix containing all euclidean distances beetween cities\n",
    "\n",
    "print(D)\n",
    "\n",
    "#g = nx.Graph()\n",
    "#g = g_5.add_weighted_edges_from(zip([1,1,1,1,2,2,2,3,3,4],\n",
    " #                                     [2,3,4,5,3,4,5,4,5,5],\n",
    "                                      \n",
    "print(D)"
   ]
  },
  {
   "cell_type": "markdown",
   "metadata": {},
   "source": [
    "###### Question 2 - Held-Karp’s algorithm implementation"
   ]
  },
  {
   "cell_type": "code",
   "execution_count": 3,
   "metadata": {},
   "outputs": [
    {
     "name": "stdout",
     "output_type": "stream",
     "text": [
      "number of cities : 5\n",
      "Optimal distance : 8387.077130278542\n",
      "Execution time : 0.0010881423950195312\n"
     ]
    }
   ],
   "source": [
    "import itertools\n",
    "\n",
    "tim = time.time()\n",
    "\n",
    "# We use a dictionary :\n",
    "L = {}\n",
    "n = len(Coord)\n",
    "for i in range(1, n):\n",
    "    L[((0,i),i)] = D[i,0]\n",
    "    \n",
    "for m in range(2,n):\n",
    "    for i in itertools.combinations(range(1,n), m):\n",
    "        i = set(i)\n",
    "        i.add(0)\n",
    "        i = tuple(sorted(i))\n",
    "        for j in i:\n",
    "            if j != 0:\n",
    "                s = set(i)\n",
    "                s.remove(j)\n",
    "                s = tuple(sorted(s))\n",
    "                min_temp = float('inf')\n",
    "                for k in i:\n",
    "                    if k != j and k != 0:\n",
    "                        value = L.get((s,k)) + D[k,j]\n",
    "                        min_temp = min(value, min_temp)\n",
    "                L[(i,j)] = min_temp\n",
    "\n",
    "sol = float('inf')\n",
    "for j in range(1,n):\n",
    "    sol = min(sol, L.get((tuple(sorted(range(n))),j)) + D[j,0])\n",
    "\n",
    "print(\"number of cities : \"+str(n))\n",
    "print(\"Optimal distance : \"+str(sol))\n",
    "print(\"Execution time : \"+str(time.time()-tim))\n",
    "\n",
    "## In order to test the algorithm with an increasing number of cities, please select\n",
    "## the corresponding text file in first code window (file_5, file_10, file_15, file_20, file_25)"
   ]
  },
  {
   "cell_type": "markdown",
   "metadata": {},
   "source": [
    "##### Some results :\n",
    "- number of cities : 5 \n",
    "    - Optimal distance : ~ 8387.08\n",
    "    - Execution time : ~ 0.0024\n",
    "- number of cities : 10 \n",
    "    - Optimal distance : ~ 12349.98\n",
    "    - Execution time : ~ 0.0404\n",
    "- number of cities : 15 \n",
    "    - Optimal distance : ~ 19269.94\n",
    "    - Execution time : ~ 2.0244\n",
    "- number of cities : 20 \n",
    "    - Optimal distance : ~ 23328.99\n",
    "    - Execution time : ~ 86.1478 (~ 1 min and 26 seconds)\n",
    "- number of cities : 25 \n",
    "    - Sorry we haven't suceeded to code our algorithm in less than minus 30 minutes :)"
   ]
  },
  {
   "cell_type": "markdown",
   "metadata": {},
   "source": []
  }
 ],
 "metadata": {
  "kernelspec": {
   "display_name": "Python 3",
   "language": "python",
   "name": "python3"
  },
  "language_info": {
   "codemirror_mode": {
    "name": "ipython",
    "version": 3
   },
   "file_extension": ".py",
   "mimetype": "text/x-python",
   "name": "python",
   "nbconvert_exporter": "python",
   "pygments_lexer": "ipython3",
   "version": "3.6.6"
  }
 },
 "nbformat": 4,
 "nbformat_minor": 2
}
